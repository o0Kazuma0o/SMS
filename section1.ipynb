{
 "cells": [
  {
   "cell_type": "markdown",
   "id": "e05c4c9a",
   "metadata": {},
   "source": [
    "# Import Required Libraries\n",
    "Import the necessary libraries, such as pandas, for data manipulation and CSV file creation."
   ]
  },
  {
   "cell_type": "code",
   "execution_count": 5,
   "id": "3e510152",
   "metadata": {},
   "outputs": [],
   "source": [
    "# Import Required Libraries\n",
    "import pandas as pd  # Importing pandas for data manipulation and CSV file creation"
   ]
  },
  {
   "cell_type": "markdown",
   "id": "7ffa5ec0",
   "metadata": {},
   "source": [
    "# Define Section Data Generation Function\n",
    "Write a function that generates section data for a given year level, department_id, and section range."
   ]
  },
  {
   "cell_type": "code",
   "execution_count": 6,
   "id": "6b8569ef",
   "metadata": {},
   "outputs": [],
   "source": [
    "# Function to generate section data for a given year level, department_id, and section range\n",
    "def generate_section_data(year_level, department_id, start_section, end_section):\n",
    "    \"\"\"\n",
    "    Generates section data for a specific year level and department_id.\n",
    "\n",
    "    Parameters:\n",
    "        year_level (int): The year level for which to generate data.\n",
    "        department_id (int): The department ID for which to generate data.\n",
    "        start_section (int): The starting section number for the year level.\n",
    "        end_section (int): The ending section number for the year level.\n",
    "\n",
    "    Returns:\n",
    "        list: A list of dictionaries containing section data.\n",
    "    \"\"\"\n",
    "    section_data = []\n",
    "    for section_number in range(start_section, end_section + 1):\n",
    "        section_data.append({\n",
    "            \"id\": None,  # Placeholder for ID, can be assigned later\n",
    "            \"section_number\": str(section_number),\n",
    "            \"year_level\": year_level,\n",
    "            \"department_id\": department_id,\n",
    "            \"branch\": \"Main\",\n",
    "            \"capacity\": 50,\n",
    "            \"semester_id\": 1,\n",
    "            \"available\": 50\n",
    "        })\n",
    "    return section_data"
   ]
  },
  {
   "cell_type": "markdown",
   "id": "76ec47a4",
   "metadata": {},
   "source": [
    "# Generate Data for All Year Levels\n",
    "Use a loop to generate data for year levels 1 to 4, iterating through department_ids and section ranges."
   ]
  },
  {
   "cell_type": "code",
   "execution_count": 7,
   "id": "db562024",
   "metadata": {},
   "outputs": [
    {
     "data": {
      "text/html": [
       "<div>\n",
       "<style scoped>\n",
       "    .dataframe tbody tr th:only-of-type {\n",
       "        vertical-align: middle;\n",
       "    }\n",
       "\n",
       "    .dataframe tbody tr th {\n",
       "        vertical-align: top;\n",
       "    }\n",
       "\n",
       "    .dataframe thead th {\n",
       "        text-align: right;\n",
       "    }\n",
       "</style>\n",
       "<table border=\"1\" class=\"dataframe\">\n",
       "  <thead>\n",
       "    <tr style=\"text-align: right;\">\n",
       "      <th></th>\n",
       "      <th>id</th>\n",
       "      <th>section_number</th>\n",
       "      <th>year_level</th>\n",
       "      <th>department_id</th>\n",
       "      <th>branch</th>\n",
       "      <th>capacity</th>\n",
       "      <th>semester_id</th>\n",
       "      <th>available</th>\n",
       "    </tr>\n",
       "  </thead>\n",
       "  <tbody>\n",
       "    <tr>\n",
       "      <th>0</th>\n",
       "      <td>172</td>\n",
       "      <td>1101</td>\n",
       "      <td>1</td>\n",
       "      <td>2</td>\n",
       "      <td>Main</td>\n",
       "      <td>50</td>\n",
       "      <td>1</td>\n",
       "      <td>50</td>\n",
       "    </tr>\n",
       "    <tr>\n",
       "      <th>1</th>\n",
       "      <td>173</td>\n",
       "      <td>1102</td>\n",
       "      <td>1</td>\n",
       "      <td>2</td>\n",
       "      <td>Main</td>\n",
       "      <td>50</td>\n",
       "      <td>1</td>\n",
       "      <td>50</td>\n",
       "    </tr>\n",
       "    <tr>\n",
       "      <th>2</th>\n",
       "      <td>174</td>\n",
       "      <td>1103</td>\n",
       "      <td>1</td>\n",
       "      <td>2</td>\n",
       "      <td>Main</td>\n",
       "      <td>50</td>\n",
       "      <td>1</td>\n",
       "      <td>50</td>\n",
       "    </tr>\n",
       "    <tr>\n",
       "      <th>3</th>\n",
       "      <td>175</td>\n",
       "      <td>1104</td>\n",
       "      <td>1</td>\n",
       "      <td>2</td>\n",
       "      <td>Main</td>\n",
       "      <td>50</td>\n",
       "      <td>1</td>\n",
       "      <td>50</td>\n",
       "    </tr>\n",
       "    <tr>\n",
       "      <th>4</th>\n",
       "      <td>176</td>\n",
       "      <td>1105</td>\n",
       "      <td>1</td>\n",
       "      <td>2</td>\n",
       "      <td>Main</td>\n",
       "      <td>50</td>\n",
       "      <td>1</td>\n",
       "      <td>50</td>\n",
       "    </tr>\n",
       "  </tbody>\n",
       "</table>\n",
       "</div>"
      ],
      "text/plain": [
       "    id section_number  year_level  department_id branch  capacity  \\\n",
       "0  172           1101           1              2   Main        50   \n",
       "1  173           1102           1              2   Main        50   \n",
       "2  174           1103           1              2   Main        50   \n",
       "3  175           1104           1              2   Main        50   \n",
       "4  176           1105           1              2   Main        50   \n",
       "\n",
       "   semester_id  available  \n",
       "0            1         50  \n",
       "1            1         50  \n",
       "2            1         50  \n",
       "3            1         50  \n",
       "4            1         50  "
      ]
     },
     "execution_count": 7,
     "metadata": {},
     "output_type": "execute_result"
    }
   ],
   "source": [
    "# Generate data for year levels 1 to 4\n",
    "all_sections_data = []  # List to hold all generated data\n",
    "\n",
    "# Define section details\n",
    "sections = [\n",
    "    {\"year_level\": 1, \"start_section\": 1101, \"end_section\": 1120},\n",
    "    {\"year_level\": 2, \"start_section\": 2101, \"end_section\": 2120},\n",
    "    {\"year_level\": 3, \"start_section\": 3101, \"end_section\": 3120},\n",
    "    {\"year_level\": 4, \"start_section\": 4101, \"end_section\": 4120}\n",
    "]\n",
    "\n",
    "# Loop through year levels and department_ids to generate data\n",
    "for section in sections:\n",
    "    for department_id in range(2, 13):  # Assuming department_ids 1 and 12\n",
    "        section_data = generate_section_data(\n",
    "            year_level=section[\"year_level\"],\n",
    "            department_id=department_id,\n",
    "            start_section=section[\"start_section\"],\n",
    "            end_section=section[\"end_section\"]\n",
    "        )\n",
    "        all_sections_data.extend(section_data)  # Append generated data to the main list\n",
    "\n",
    "# Convert the data to a DataFrame\n",
    "sections_df = pd.DataFrame(all_sections_data)\n",
    "\n",
    "# Assign unique IDs to each row\n",
    "sections_df[\"id\"] = range(172, 172 + len(sections_df))\n",
    "\n",
    "# Display the first few rows of the DataFrame\n",
    "sections_df.head()"
   ]
  },
  {
   "cell_type": "markdown",
   "id": "7e23d8a1",
   "metadata": {},
   "source": [
    "# Save Data to CSV File\n",
    "Combine all generated data into a single DataFrame and save it to a CSV file named 'generated_sections.csv'."
   ]
  },
  {
   "cell_type": "code",
   "execution_count": 8,
   "id": "ad651562",
   "metadata": {},
   "outputs": [],
   "source": [
    "# Save the DataFrame to a CSV file\n",
    "sections_df.to_csv('generated_sections.csv', index=False)  # Save the DataFrame to a CSV file without the index column"
   ]
  }
 ],
 "metadata": {
  "kernelspec": {
   "display_name": "Python 3",
   "language": "python",
   "name": "python3"
  },
  "language_info": {
   "codemirror_mode": {
    "name": "ipython",
    "version": 3
   },
   "file_extension": ".py",
   "mimetype": "text/x-python",
   "name": "python",
   "nbconvert_exporter": "python",
   "pygments_lexer": "ipython3",
   "version": "3.11.9"
  }
 },
 "nbformat": 4,
 "nbformat_minor": 5
}
