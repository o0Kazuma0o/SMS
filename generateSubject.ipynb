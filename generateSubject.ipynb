{
 "cells": [
  {
   "cell_type": "markdown",
   "id": "7f34bfcf",
   "metadata": {},
   "source": [
    "# Import Required Libraries\n",
    "Import the necessary libraries, such as pandas, for data manipulation and CSV file creation."
   ]
  },
  {
   "cell_type": "code",
   "execution_count": 5,
   "id": "6045b4da",
   "metadata": {},
   "outputs": [],
   "source": [
    "# Import Required Libraries\n",
    "import pandas as pd  # Importing pandas for data manipulation and CSV file creation"
   ]
  },
  {
   "cell_type": "markdown",
   "id": "909b1144",
   "metadata": {},
   "source": [
    "# Define Subject Generation Function\n",
    "Write a function that generates subject data for a given department_id by copying all subjects from the provided CSV file."
   ]
  },
  {
   "cell_type": "code",
   "execution_count": 6,
   "id": "afac32b5",
   "metadata": {},
   "outputs": [],
   "source": [
    "# Function to generate subject data for a given department_id\n",
    "def generate_subject_data(department_id, source_csv):\n",
    "    \"\"\"\n",
    "    Generates subject data for a specific department_id by copying all subjects from the provided CSV file.\n",
    "    \n",
    "    Parameters:\n",
    "        department_id (int): The department ID for which to generate data.\n",
    "        source_csv (str): The file path of the source CSV file containing subject data.\n",
    "    \n",
    "    Returns:\n",
    "        pd.DataFrame: A DataFrame containing the generated subject data.\n",
    "    \"\"\"\n",
    "    # Load the source CSV file\n",
    "    subjects_df = pd.read_csv(source_csv)\n",
    "    \n",
    "    # Filter the data for department_id 1 (template data)\n",
    "    template_subjects = subjects_df[subjects_df['department_id'] == 1].copy()\n",
    "    \n",
    "    # Update the department_id for the new department\n",
    "    template_subjects['department_id'] = department_id\n",
    "    \n",
    "    return template_subjects"
   ]
  },
  {
   "cell_type": "markdown",
   "id": "8562173c",
   "metadata": {},
   "source": [
    "# Generate Subjects for All Departments\n",
    "Use a loop to generate subject data for department_ids 2 to 12 by copying all subjects and assigning the respective department_id."
   ]
  },
  {
   "cell_type": "code",
   "execution_count": 7,
   "id": "256418d4",
   "metadata": {},
   "outputs": [
    {
     "data": {
      "text/html": [
       "<div>\n",
       "<style scoped>\n",
       "    .dataframe tbody tr th:only-of-type {\n",
       "        vertical-align: middle;\n",
       "    }\n",
       "\n",
       "    .dataframe tbody tr th {\n",
       "        vertical-align: top;\n",
       "    }\n",
       "\n",
       "    .dataframe thead th {\n",
       "        text-align: right;\n",
       "    }\n",
       "</style>\n",
       "<table border=\"1\" class=\"dataframe\">\n",
       "  <thead>\n",
       "    <tr style=\"text-align: right;\">\n",
       "      <th></th>\n",
       "      <th>id</th>\n",
       "      <th>subject_code</th>\n",
       "      <th>subject_name</th>\n",
       "      <th>department_id</th>\n",
       "      <th>year_level</th>\n",
       "    </tr>\n",
       "  </thead>\n",
       "  <tbody>\n",
       "    <tr>\n",
       "      <th>0</th>\n",
       "      <td>58</td>\n",
       "      <td>PE1</td>\n",
       "      <td>Physical Fitness and Gymnastics</td>\n",
       "      <td>2</td>\n",
       "      <td>1</td>\n",
       "    </tr>\n",
       "    <tr>\n",
       "      <th>1</th>\n",
       "      <td>59</td>\n",
       "      <td>GE1</td>\n",
       "      <td>Understanding the self</td>\n",
       "      <td>2</td>\n",
       "      <td>1</td>\n",
       "    </tr>\n",
       "    <tr>\n",
       "      <th>2</th>\n",
       "      <td>60</td>\n",
       "      <td>GE3</td>\n",
       "      <td>The Contemporary World</td>\n",
       "      <td>2</td>\n",
       "      <td>1</td>\n",
       "    </tr>\n",
       "    <tr>\n",
       "      <th>3</th>\n",
       "      <td>61</td>\n",
       "      <td>GE4</td>\n",
       "      <td>Mathematics in the Modern World</td>\n",
       "      <td>2</td>\n",
       "      <td>1</td>\n",
       "    </tr>\n",
       "    <tr>\n",
       "      <th>4</th>\n",
       "      <td>62</td>\n",
       "      <td>CC101</td>\n",
       "      <td>Introduction to Computing</td>\n",
       "      <td>2</td>\n",
       "      <td>1</td>\n",
       "    </tr>\n",
       "  </tbody>\n",
       "</table>\n",
       "</div>"
      ],
      "text/plain": [
       "   id subject_code                     subject_name  department_id  year_level\n",
       "0  58          PE1  Physical Fitness and Gymnastics              2           1\n",
       "1  59          GE1           Understanding the self              2           1\n",
       "2  60          GE3           The Contemporary World              2           1\n",
       "3  61          GE4  Mathematics in the Modern World              2           1\n",
       "4  62        CC101        Introduction to Computing              2           1"
      ]
     },
     "execution_count": 7,
     "metadata": {},
     "output_type": "execute_result"
    }
   ],
   "source": [
    "# Generate subjects for department_ids 2 to 12\n",
    "all_departments_subjects = []  # List to hold all generated data\n",
    "\n",
    "# Define the source CSV file path\n",
    "source_csv_path = 'c:\\\\xampp\\\\htdocs\\\\SMS\\\\sms3_subjects.csv'\n",
    "\n",
    "# Loop through department_ids 2 to 12 to generate subject data\n",
    "for department_id in range(2, 13):  # department_ids 2 to 12\n",
    "    department_subjects = generate_subject_data(department_id, source_csv_path)\n",
    "    all_departments_subjects.append(department_subjects)\n",
    "\n",
    "# Combine all generated data into a single DataFrame\n",
    "all_subjects_df = pd.concat(all_departments_subjects, ignore_index=True)\n",
    "\n",
    "# Assign incremental IDs starting at 58\n",
    "all_subjects_df['id'] = range(58, 58 + len(all_subjects_df))\n",
    "\n",
    "# Display the first few rows of the DataFrame\n",
    "all_subjects_df.head()"
   ]
  },
  {
   "cell_type": "markdown",
   "id": "957f4f7e",
   "metadata": {},
   "source": [
    "# Save Data to CSV File\n",
    "Combine all generated data into a single DataFrame and save it to a CSV file named 'generated_subjects.csv'."
   ]
  },
  {
   "cell_type": "code",
   "execution_count": 8,
   "id": "69755819",
   "metadata": {},
   "outputs": [],
   "source": [
    "# Save the generated data to a CSV file\n",
    "output_csv_path = 'generated_subjects.csv'\n",
    "all_subjects_df.to_csv(output_csv_path, index=False)  # Save the DataFrame to a CSV file without the index column"
   ]
  }
 ],
 "metadata": {
  "kernelspec": {
   "display_name": "Python 3",
   "language": "python",
   "name": "python3"
  },
  "language_info": {
   "codemirror_mode": {
    "name": "ipython",
    "version": 3
   },
   "file_extension": ".py",
   "mimetype": "text/x-python",
   "name": "python",
   "nbconvert_exporter": "python",
   "pygments_lexer": "ipython3",
   "version": "3.11.9"
  }
 },
 "nbformat": 4,
 "nbformat_minor": 5
}
