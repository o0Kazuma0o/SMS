{
 "cells": [
  {
   "cell_type": "markdown",
   "id": "9133628c",
   "metadata": {},
   "source": [
    "# A Jupyter Notebook to Create a Timetable\n",
    "This notebook generates a timetable based on department, year level, and other constraints."
   ]
  },
  {
   "cell_type": "markdown",
   "id": "df064698",
   "metadata": {},
   "source": [
    "## Import Required Libraries\n",
    "Import libraries such as pandas and random for data manipulation and randomization."
   ]
  },
  {
   "cell_type": "code",
   "execution_count": null,
   "id": "1a43a704",
   "metadata": {},
   "outputs": [],
   "source": [
    "# Import Required Libraries\n",
    "import pandas as pd\n",
    "import random"
   ]
  },
  {
   "cell_type": "markdown",
   "id": "d7a67ed6",
   "metadata": {},
   "source": [
    "## Load and Inspect Data\n",
    "Load the CSV files for rooms, sections, subjects, and timetable into pandas DataFrames and inspect their structure."
   ]
  },
  {
   "cell_type": "code",
   "execution_count": null,
   "id": "51a5d530",
   "metadata": {},
   "outputs": [],
   "source": [
    "# Load and Inspect Data\n",
    "rooms_df = pd.read_csv(r'c:\\xampp\\htdocs\\SMS\\sms3_rooms.csv')\n",
    "sections_df = pd.read_csv(r'c:\\xampp\\htdocs\\SMS\\sms3_sections.csv')\n",
    "subjects_df = pd.read_csv(r'c:\\xampp\\htdocs\\SMS\\sms3_subjects.csv')\n",
    "timetable_df = pd.read_csv(r'c:\\xampp\\htdocs\\SMS\\sms3_timetable.csv')\n",
    "\n",
    "# Display the first few rows of each DataFrame\n",
    "print(\"Rooms Data:\")\n",
    "print(rooms_df.head())\n",
    "print(\"\\nSections Data:\")\n",
    "print(sections_df.head())\n",
    "print(\"\\nSubjects Data:\")\n",
    "print(subjects_df.head())\n",
    "print(\"\\nTimetable Data:\")\n",
    "print(timetable_df.head())"
   ]
  },
  {
   "cell_type": "markdown",
   "id": "ef6498eb",
   "metadata": {},
   "source": [
    "## Filter Data by Department and Year Level\n",
    "Filter the data to ensure that subject_id, section_id, and room_id have the same department_id and match the year level constraints."
   ]
  },
  {
   "cell_type": "code",
   "execution_count": null,
   "id": "ecbb736c",
   "metadata": {},
   "outputs": [],
   "source": [
    "# Filter Data by Department and Year Level\n",
    "department_id = 1  # Example department\n",
    "year_level = 1     # Example year level\n",
    "\n",
    "# Filter subjects, sections, and rooms based on department_id and year_level\n",
    "filtered_subjects = subjects_df[(subjects_df['department_id'] == department_id) & (subjects_df['year_level'] == year_level)]\n",
    "filtered_sections = sections_df[(sections_df['department_id'] == department_id) & (sections_df['year_level'] == year_level)]\n",
    "filtered_rooms = rooms_df[rooms_df['department_id'] == department_id]\n",
    "\n",
    "# Display filtered data\n",
    "print(\"Filtered Subjects:\")\n",
    "print(filtered_subjects)\n",
    "print(\"\\nFiltered Sections:\")\n",
    "print(filtered_sections)\n",
    "print(\"\\nFiltered Rooms:\")\n",
    "print(filtered_rooms)"
   ]
  },
  {
   "cell_type": "markdown",
   "id": "b5c7507c",
   "metadata": {},
   "source": [
    "## Generate Timetable\n",
    "Randomly assign days (Monday to Saturday) and times (06:00:00 to 21:00:00) to each section, ensuring no section has more than 3 days."
   ]
  },
  {
   "cell_type": "code",
   "execution_count": null,
   "id": "e94cc5e5",
   "metadata": {},
   "outputs": [],
   "source": [
    "# Generate Timetable\n",
    "days = [\"Monday\", \"Tuesday\", \"Wednesday\", \"Thursday\", \"Friday\", \"Saturday\"]\n",
    "time_slots = [\"06:00:00\", \"07:30:00\", \"09:00:00\", \"10:30:00\", \"12:00:00\", \"13:30:00\", \"15:00:00\", \"16:30:00\", \"18:00:00\", \"19:30:00\"]\n",
    "\n",
    "generated_timetable = []\n",
    "\n",
    "# Exclude sections with department_id 1\n",
    "filtered_sections_df = sections_df[sections_df[\"department_id\"] != 1]\n",
    "\n",
    "# Use filtered_sections_df in the timetable generation loop\n",
    "for _, section in filtered_sections_df.iterrows():\n",
    "    year_level = section[\"year_level\"]\n",
    "    section_id = section[\"id\"]\n",
    "    department_id = section[\"department_id\"]\n",
    "\n",
    "    # Determine the number of subjects and days based on year level\n",
    "    if year_level == 1 or year_level == 2:\n",
    "        num_subjects = 8\n",
    "        num_days = 3  # Maximum 3 days\n",
    "    elif year_level == 3:\n",
    "        num_subjects = 6\n",
    "        num_days = random.randint(2, 3)  # 2 to 3 days\n",
    "    elif year_level == 4:\n",
    "        num_subjects = 3\n",
    "        num_days = random.randint(1, 2)  # 1 to 2 days\n",
    "    else:\n",
    "        continue  # Skip sections with unsupported year levels\n",
    "\n",
    "    # Filter subjects for the current year level and department\n",
    "    filtered_subjects = subjects_df[\n",
    "        (subjects_df[\"year_level\"] == year_level) &\n",
    "        (subjects_df[\"department_id\"] == department_id)\n",
    "    ]\n",
    "\n",
    "    # Ensure enough subjects are available for sampling\n",
    "    if len(filtered_subjects) < num_subjects:\n",
    "        print(f\"Not enough subjects for section {section_id} (Year Level {year_level}). Skipping...\")\n",
    "        continue\n",
    "\n",
    "    # Randomly select the required number of subjects\n",
    "    assigned_subjects = filtered_subjects.sample(num_subjects, replace=False)  # Ensure no duplicates\n",
    "    assigned_days = random.sample(days, min(num_days, len(days)))  # Assign random days\n",
    "\n",
    "    # Distribute subjects across the assigned days\n",
    "    subject_distribution = [num_subjects // num_days] * num_days  # Equal distribution\n",
    "    for i in range(num_subjects % num_days):  # Distribute the remainder\n",
    "        subject_distribution[i] += 1\n",
    "\n",
    "    # Determine the number of rooms to use based on year level\n",
    "    if year_level in [1, 2]:\n",
    "        num_rooms = random.choice([1, 2])\n",
    "    elif year_level == 3:\n",
    "        num_rooms = 2\n",
    "    else:\n",
    "        num_rooms = 1  # Default for other year levels\n",
    "\n",
    "    # Select the specified number of rooms for this section\n",
    "    available_rooms = rooms_df[rooms_df['department_id'] == department_id]\n",
    "    if len(available_rooms) < num_rooms:\n",
    "        print(f\"Not enough rooms available for section {section_id}. Using all available rooms.\")\n",
    "        num_rooms = len(available_rooms)\n",
    "    allowed_rooms = available_rooms.sample(num_rooms)\n",
    "\n",
    "    subject_index = 0\n",
    "    for day, subject_count in zip(assigned_days, subject_distribution):\n",
    "        for _ in range(subject_count):\n",
    "            if subject_index >= len(assigned_subjects):\n",
    "                break\n",
    "            subject = assigned_subjects.iloc[subject_index]\n",
    "            # Select a random room from the allowed rooms for this section\n",
    "            room = allowed_rooms.sample(1).iloc[0]\n",
    "            start_time = random.choice(time_slots)\n",
    "            # Calculate end time by adding 1.5 hours (90 minutes) to start time\n",
    "            start_hour, start_minute, _ = map(int, start_time.split(\":\"))\n",
    "            end_hour = start_hour + (start_minute + 90) // 60\n",
    "            end_minute = (start_minute + 90) % 60\n",
    "            end_time = f\"{end_hour:02d}:{end_minute:02d}:00\"\n",
    "\n",
    "            generated_timetable.append({\n",
    "                \"subject_id\": subject.id,\n",
    "                \"section_id\": section_id,\n",
    "                \"room_id\": room[\"id\"],\n",
    "                \"day_of_week\": day,\n",
    "                \"start_time\": start_time,\n",
    "                \"end_time\": end_time\n",
    "            })\n",
    "            subject_index += 1\n",
    "\n",
    "# Convert to DataFrame\n",
    "generated_timetable_df = pd.DataFrame(generated_timetable)\n",
    "\n",
    "# Assign incremental IDs starting at 407\n",
    "generated_timetable_df['id'] = range(407, 407 + len(generated_timetable_df))\n",
    "\n",
    "# Reorder columns to place 'id' as the first column\n",
    "generated_timetable_df = generated_timetable_df[['id'] + [col for col in generated_timetable_df.columns if col != 'id']]\n",
    "\n",
    "print(\"Generated Timetable:\")\n",
    "print(generated_timetable_df)"
   ]
  },
  {
   "cell_type": "markdown",
   "id": "24e6b74b",
   "metadata": {},
   "source": []
  },
  {
   "cell_type": "markdown",
   "id": "9f935d50",
   "metadata": {},
   "source": [
    "## Check for Conflicts\n",
    "Ensure there are no conflicts in the timetable, such as overlapping times for the same room or section."
   ]
  },
  {
   "cell_type": "code",
   "execution_count": null,
   "id": "22f7c84f",
   "metadata": {},
   "outputs": [],
   "source": [
    "# Check for Conflicts\n",
    "def check_conflicts(timetable):\n",
    "    conflicts = []\n",
    "    for _, row in timetable.iterrows():\n",
    "        overlapping = timetable[\n",
    "            (timetable[\"room_id\"] == row[\"room_id\"]) &\n",
    "            (timetable[\"day_of_week\"] == row[\"day_of_week\"]) &\n",
    "            (\n",
    "                (timetable[\"start_time\"] < row[\"end_time\"]) &\n",
    "                (timetable[\"end_time\"] > row[\"start_time\"])\n",
    "            )\n",
    "        ]\n",
    "        if len(overlapping) > 1:\n",
    "            conflicts.append(row)\n",
    "    return conflicts\n",
    "\n",
    "conflicts = check_conflicts(generated_timetable_df)\n",
    "if conflicts:\n",
    "    print(\"Conflicts Found:\")\n",
    "    print(conflicts)\n",
    "else:\n",
    "    print(\"No conflicts found in the timetable.\")"
   ]
  },
  {
   "cell_type": "markdown",
   "id": "14b12395",
   "metadata": {},
   "source": [
    "## Save Timetable to CSV\n",
    "Save the generated timetable to a new CSV file for further use."
   ]
  },
  {
   "cell_type": "code",
   "execution_count": null,
   "id": "f66e37e0",
   "metadata": {},
   "outputs": [],
   "source": [
    "# Save Timetable to CSV\n",
    "output_path = r'c:\\xampp\\htdocs\\SMS\\generated_timetable.csv'\n",
    "generated_timetable_df.to_csv(output_path, index=False)\n",
    "print(f\"Generated timetable saved to {output_path}\")"
   ]
  }
 ],
 "metadata": {
  "kernelspec": {
   "display_name": "Python 3",
   "language": "python",
   "name": "python3"
  },
  "language_info": {
   "codemirror_mode": {
    "name": "ipython",
    "version": 3
   },
   "file_extension": ".py",
   "mimetype": "text/x-python",
   "name": "python",
   "nbconvert_exporter": "python",
   "pygments_lexer": "ipython3",
   "version": "3.11.9"
  }
 },
 "nbformat": 4,
 "nbformat_minor": 5
}
