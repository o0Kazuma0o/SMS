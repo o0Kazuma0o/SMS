{
 "cells": [
  {
   "cell_type": "markdown",
   "id": "28745c3b",
   "metadata": {},
   "source": [
    "# Import Required Libraries\n",
    "Import necessary libraries such as pandas and numpy."
   ]
  },
  {
   "cell_type": "code",
   "execution_count": 16,
   "id": "8010ff35",
   "metadata": {},
   "outputs": [],
   "source": [
    "# Import Required Libraries\n",
    "import pandas as pd\n",
    "import numpy as np\n",
    "from collections import defaultdict"
   ]
  },
  {
   "cell_type": "markdown",
   "id": "67ef14b3",
   "metadata": {},
   "source": [
    "# Load and Process Data\n",
    "Load the provided CSV files (sms3_timetable, sms3_sections, sms3_departments) and process them to extract relevant information for generating enrollment data."
   ]
  },
  {
   "cell_type": "code",
   "execution_count": 17,
   "id": "7352b83e",
   "metadata": {},
   "outputs": [
    {
     "name": "stdout",
     "output_type": "stream",
     "text": [
      "Timetable Data:\n",
      "   id  subject_id  section_id  room_id day_of_week start_time  end_time\n",
      "0  36          14           5        1      Monday   06:00:00  08:00:00\n",
      "1  37           7           5        1      Monday   08:00:00  10:00:00\n",
      "2  38           8           5        4     Tuesday   06:00:00  08:00:00\n",
      "3  39           9           5       11     Tuesday   08:00:00  10:00:00\n",
      "4  41          12           5        1      Friday   08:00:00  11:00:00\n",
      "\n",
      "Sections Data:\n",
      "   id  section_number  year_level  department_id branch  capacity  \\\n",
      "0   5            1101           1              1   Main        50   \n",
      "1   6            1102           1              1   Main        50   \n",
      "2   7            1103           1              1   Main        50   \n",
      "3  10            1201           1              1   Main        50   \n",
      "4  11            1202           1              1   Main        50   \n",
      "\n",
      "   semester_id  available  \n",
      "0            1         50  \n",
      "1            1         50  \n",
      "2            1         50  \n",
      "3            2         50  \n",
      "4            2         50  \n",
      "\n",
      "Departments Data:\n",
      "   id department_code                                department_name\n",
      "0   1            BSIT  Bachelor of Science in Information Technology\n",
      "1   2            BSCS        Bachelor of Science in Computer Science\n",
      "2   3            BEED               Bachelor of Elementary Education\n",
      "3   4            BLIS        Bachelor in Library Information Science\n",
      "4   5            BPED                 Bachelor in Physical Education\n"
     ]
    }
   ],
   "source": [
    "# Load and Process Data\n",
    "# Load CSV files\n",
    "timetable_df = pd.read_csv(r'c:\\xampp\\htdocs\\SMS\\sms3_timetable.csv')\n",
    "sections_df = pd.read_csv(r'c:\\xampp\\htdocs\\SMS\\sms3_sections.csv')\n",
    "departments_df = pd.read_csv(r'c:\\xampp\\htdocs\\SMS\\sms3_departments.csv')\n",
    "\n",
    "# Display the first few rows of each dataset for verification\n",
    "print(\"Timetable Data:\")\n",
    "print(timetable_df.head())\n",
    "\n",
    "print(\"\\nSections Data:\")\n",
    "print(sections_df.head())\n",
    "\n",
    "print(\"\\nDepartments Data:\")\n",
    "print(departments_df.head())"
   ]
  },
  {
   "cell_type": "markdown",
   "id": "a1709cd3",
   "metadata": {},
   "source": [
    "# Generate Enrollment Data\n",
    "Generate 500k enrollment records with timetable columns based on timetable_id, ensuring the same section_id for a set of timetables. Include NULL for missing timetables, and set receipt_status to 'Paid' and status to 'Approved'."
   ]
  },
  {
   "cell_type": "code",
   "execution_count": 18,
   "id": "e3bccb5c",
   "metadata": {},
   "outputs": [
    {
     "name": "stdout",
     "output_type": "stream",
     "text": [
      "Generated Enrollment Data:\n",
      "   id  student_id  timetable_1  timetable_2  timetable_3  timetable_4  \\\n",
      "0   1       48766          623          624          625          626   \n",
      "1   2       17860         7491         7492         7493         7494   \n",
      "2   3       30187         8203         8204         8205         8206   \n",
      "3   4       55757         5121         5122         5123         5124   \n",
      "4   5       52823         5472         5473         5474         <NA>   \n",
      "\n",
      "   timetable_5  timetable_6  timetable_7  timetable_8 receipt_status  \\\n",
      "0          627          628          629          630           Paid   \n",
      "1         7495         7496         7497         7498           Paid   \n",
      "2         8207         8208         8209         8210           Paid   \n",
      "3         5125         5126         <NA>         <NA>           Paid   \n",
      "4         <NA>         <NA>         <NA>         <NA>           Paid   \n",
      "\n",
      "     status          created_at  \n",
      "0  Approved 2017-08-15 16:48:56  \n",
      "1  Approved 2018-01-18 11:40:03  \n",
      "2  Approved 2012-01-07 15:27:45  \n",
      "3  Approved 2017-02-25 07:57:21  \n",
      "4  Approved 2015-08-01 08:07:40  \n"
     ]
    }
   ],
   "source": [
    "# Group timetable IDs by section_id\n",
    "timetable_groups = timetable_df.groupby('section_id')['id'].apply(list).to_dict()\n",
    "\n",
    "num_records = 500000\n",
    "max_students = 90000  # Adjust this based on desired number of unique students\n",
    "\n",
    "# Generate a list of student_ids from 1 to max_students\n",
    "student_ids = list(range(1, max_students + 1))\n",
    "\n",
    "enrollment_data = []\n",
    "student_enrollments = defaultdict(set)  # Tracks (academic_year, semester_id) per student_id\n",
    "\n",
    "for _ in range(num_records):\n",
    "    # Randomly select a student_id from the pre-generated list\n",
    "    student_id = np.random.choice(student_ids)\n",
    "    \n",
    "    # Generate random date between January, February, July, and August of each year from 2010 to 2024\n",
    "    year = np.random.randint(2010, 2025)  # Random year between 2010 and 2024\n",
    "    month = np.random.choice([1, 2, 7, 8])  # Randomly choose January, February, July, or August\n",
    "    day = np.random.randint(1, 32)  # Random day in the month\n",
    "    \n",
    "    # Determine academic year and semester based on the month\n",
    "    if month in [7, 8]:\n",
    "        academic_year = year\n",
    "        semester_id = 1\n",
    "    else:\n",
    "        academic_year = year + 1\n",
    "        semester_id = 2\n",
    "    \n",
    "    # Check if student already enrolled in this academic_year and semester\n",
    "    key = (academic_year, semester_id)\n",
    "    if key in student_enrollments[student_id]:\n",
    "        # If already enrolled, skip this iteration\n",
    "        continue\n",
    "    else:\n",
    "        # Add this enrollment to the student's records\n",
    "        student_enrollments[student_id].add(key)\n",
    "    \n",
    "    # Generate hour, minute, and second for the timestamp\n",
    "    hour = np.random.randint(6, 18)  # Random hour between 6 AM and 6 PM\n",
    "    minute = np.random.randint(0, 60)\n",
    "    second = np.random.randint(0, 60)\n",
    "    \n",
    "    try:\n",
    "        random_date = pd.Timestamp(year=year, month=month, day=day, hour=hour, minute=minute, second=second)\n",
    "    except ValueError:\n",
    "        # Handle invalid dates (e.g., February 30)\n",
    "        random_date = pd.Timestamp(year=year, month=month, day=28, hour=hour, minute=minute, second=second)\n",
    "    \n",
    "    # Get the selected section and its timetables\n",
    "    selected_section = np.random.choice(list(timetable_groups.keys()))\n",
    "    timetables = timetable_groups[selected_section]\n",
    "    \n",
    "    # Prepare timetable columns, ensuring up to 8 timetables, filling with None if necessary\n",
    "    timetable_columns = timetables[:8] if len(timetables) >= 8 else timetables + [None] * (8 - len(timetables))\n",
    "    timetable_columns = [int(t) if t is not None else None for t in timetable_columns]\n",
    "    \n",
    "    # Create the enrollment record\n",
    "    enrollment_record = {\n",
    "        \"id\": len(enrollment_data) + 1,  # Unique record ID\n",
    "        \"student_id\": student_id,\n",
    "        \"timetable_1\": timetable_columns[0] if len(timetable_columns) > 0 else None,\n",
    "        \"timetable_2\": timetable_columns[1] if len(timetable_columns) > 1 else None,\n",
    "        \"timetable_3\": timetable_columns[2] if len(timetable_columns) > 2 else None,\n",
    "        \"timetable_4\": timetable_columns[3] if len(timetable_columns) > 3 else None,\n",
    "        \"timetable_5\": timetable_columns[4] if len(timetable_columns) > 4 else None,\n",
    "        \"timetable_6\": timetable_columns[5] if len(timetable_columns) > 5 else None,\n",
    "        \"timetable_7\": timetable_columns[6] if len(timetable_columns) > 6 else None,\n",
    "        \"timetable_8\": timetable_columns[7] if len(timetable_columns) > 7 else None,\n",
    "        \"receipt_status\": \"Paid\",\n",
    "        \"status\": \"Approved\",\n",
    "        \"created_at\": random_date\n",
    "    }\n",
    "    \n",
    "    enrollment_data.append(enrollment_record)\n",
    "\n",
    "# Create DataFrame\n",
    "enrollment_df = pd.DataFrame(enrollment_data)\n",
    "\n",
    "# Convert timetable columns to Int64 type to handle NULL values\n",
    "for col in ['timetable_1', 'timetable_2', 'timetable_3', 'timetable_4', \n",
    "           'timetable_5', 'timetable_6', 'timetable_7', 'timetable_8']:\n",
    "    enrollment_df[col] = enrollment_df[col].astype('Int64')\n",
    "\n",
    "print(\"Generated Enrollment Data:\")\n",
    "print(enrollment_df.head())"
   ]
  },
  {
   "cell_type": "markdown",
   "id": "4a3eebf6",
   "metadata": {},
   "source": [
    "# Save Enrollment Data to CSV\n",
    "Save the generated enrollment data to a CSV file for further use."
   ]
  },
  {
   "cell_type": "code",
   "execution_count": 19,
   "id": "e8b5e7cf",
   "metadata": {},
   "outputs": [
    {
     "name": "stdout",
     "output_type": "stream",
     "text": [
      "Enrollment data successfully saved to c:\\\\xampp\\\\htdocs\\\\SMS\\\\generated_data_enrollments.csv\n"
     ]
    }
   ],
   "source": [
    "# Save Enrollment Data to CSV\n",
    "output_filepath = r'c:\\\\xampp\\\\htdocs\\\\SMS\\\\generated_data_enrollments.csv'\n",
    "enrollment_df.to_csv(output_filepath, index=False, na_rep='NULL')\n",
    "\n",
    "print(f\"Enrollment data successfully saved to {output_filepath}\")"
   ]
  }
 ],
 "metadata": {
  "kernelspec": {
   "display_name": "Python 3",
   "language": "python",
   "name": "python3"
  },
  "language_info": {
   "codemirror_mode": {
    "name": "ipython",
    "version": 3
   },
   "file_extension": ".py",
   "mimetype": "text/x-python",
   "name": "python",
   "nbconvert_exporter": "python",
   "pygments_lexer": "ipython3",
   "version": "3.11.9"
  }
 },
 "nbformat": 4,
 "nbformat_minor": 5
}
