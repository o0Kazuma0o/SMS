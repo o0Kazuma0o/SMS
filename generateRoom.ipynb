{
 "cells": [
  {
   "cell_type": "markdown",
   "metadata": {},
   "source": [
    "# Import Required Libraries\n",
    "Import the necessary libraries, such as pandas, for data manipulation and CSV file creation."
   ]
  },
  {
   "cell_type": "code",
   "execution_count": 1,
   "metadata": {},
   "outputs": [],
   "source": [
    "import pandas as pd  # Importing pandas for data manipulation and CSV file creation"
   ]
  },
  {
   "cell_type": "markdown",
   "metadata": {},
   "source": [
    "# Define Data Generation Function\n",
    "Write a function that generates room data for a given department_id, floor, and room range."
   ]
  },
  {
   "cell_type": "code",
   "execution_count": 2,
   "metadata": {},
   "outputs": [],
   "source": [
    "# Function to generate room data for a given department_id, floor, and room range\n",
    "def generate_room_data(department_id, floor, start_room, end_room):\n",
    "    \"\"\"\n",
    "    Generates room data for a specific department_id and floor.\n",
    "    \n",
    "    Parameters:\n",
    "        department_id (int): The department ID for which to generate data.\n",
    "        floor (str): The floor name (e.g., '2nd Floor').\n",
    "        start_room (int): The starting room number for the floor.\n",
    "        end_room (int): The ending room number for the floor.\n",
    "    \n",
    "    Returns:\n",
    "        list: A list of dictionaries containing room data.\n",
    "    \"\"\"\n",
    "    room_data = []\n",
    "    for room_number in range(start_room, end_room + 1):\n",
    "        room_data.append({\n",
    "            \"id\": None,  # Placeholder for ID, to be filled later\n",
    "            \"room_name\": str(room_number),\n",
    "            \"location\": floor,\n",
    "            \"department_id\": department_id,\n",
    "            \"branch\": \"Main\"\n",
    "        })\n",
    "    return room_data"
   ]
  },
  {
   "cell_type": "markdown",
   "metadata": {},
   "source": [
    "# Generate Data for All Departments\n",
    "Use a loop to generate data for department_ids 2 to 12, iterating through floors and room ranges."
   ]
  },
  {
   "cell_type": "code",
   "execution_count": 3,
   "metadata": {},
   "outputs": [
    {
     "data": {
      "text/html": [
       "<div>\n",
       "<style scoped>\n",
       "    .dataframe tbody tr th:only-of-type {\n",
       "        vertical-align: middle;\n",
       "    }\n",
       "\n",
       "    .dataframe tbody tr th {\n",
       "        vertical-align: top;\n",
       "    }\n",
       "\n",
       "    .dataframe thead th {\n",
       "        text-align: right;\n",
       "    }\n",
       "</style>\n",
       "<table border=\"1\" class=\"dataframe\">\n",
       "  <thead>\n",
       "    <tr style=\"text-align: right;\">\n",
       "      <th></th>\n",
       "      <th>id</th>\n",
       "      <th>room_name</th>\n",
       "      <th>location</th>\n",
       "      <th>department_id</th>\n",
       "      <th>branch</th>\n",
       "    </tr>\n",
       "  </thead>\n",
       "  <tbody>\n",
       "    <tr>\n",
       "      <th>0</th>\n",
       "      <td>83</td>\n",
       "      <td>201</td>\n",
       "      <td>2nd Floor</td>\n",
       "      <td>2</td>\n",
       "      <td>Main</td>\n",
       "    </tr>\n",
       "    <tr>\n",
       "      <th>1</th>\n",
       "      <td>84</td>\n",
       "      <td>202</td>\n",
       "      <td>2nd Floor</td>\n",
       "      <td>2</td>\n",
       "      <td>Main</td>\n",
       "    </tr>\n",
       "    <tr>\n",
       "      <th>2</th>\n",
       "      <td>85</td>\n",
       "      <td>203</td>\n",
       "      <td>2nd Floor</td>\n",
       "      <td>2</td>\n",
       "      <td>Main</td>\n",
       "    </tr>\n",
       "    <tr>\n",
       "      <th>3</th>\n",
       "      <td>86</td>\n",
       "      <td>204</td>\n",
       "      <td>2nd Floor</td>\n",
       "      <td>2</td>\n",
       "      <td>Main</td>\n",
       "    </tr>\n",
       "    <tr>\n",
       "      <th>4</th>\n",
       "      <td>87</td>\n",
       "      <td>205</td>\n",
       "      <td>2nd Floor</td>\n",
       "      <td>2</td>\n",
       "      <td>Main</td>\n",
       "    </tr>\n",
       "  </tbody>\n",
       "</table>\n",
       "</div>"
      ],
      "text/plain": [
       "   id room_name   location  department_id branch\n",
       "0  83       201  2nd Floor              2   Main\n",
       "1  84       202  2nd Floor              2   Main\n",
       "2  85       203  2nd Floor              2   Main\n",
       "3  86       204  2nd Floor              2   Main\n",
       "4  87       205  2nd Floor              2   Main"
      ]
     },
     "execution_count": 3,
     "metadata": {},
     "output_type": "execute_result"
    }
   ],
   "source": [
    "# Generate data for department_ids 2 to 12\n",
    "all_departments_data = []  # List to hold all generated data\n",
    "\n",
    "# Define floor details\n",
    "floors = [\n",
    "    {\"floor_name\": \"2nd Floor\", \"start_room\": 201, \"end_room\": 220},\n",
    "    {\"floor_name\": \"3rd Floor\", \"start_room\": 301, \"end_room\": 320},\n",
    "    {\"floor_name\": \"4th Floor\", \"start_room\": 401, \"end_room\": 420},\n",
    "    {\"floor_name\": \"5th Floor\", \"start_room\": 501, \"end_room\": 520}\n",
    "]\n",
    "\n",
    "# Loop through department_ids and floors to generate data\n",
    "for department_id in range(2, 13):  # department_ids 2 to 12\n",
    "    for floor in floors:\n",
    "        floor_data = generate_room_data(\n",
    "            department_id=department_id,\n",
    "            floor=floor[\"floor_name\"],\n",
    "            start_room=floor[\"start_room\"],\n",
    "            end_room=floor[\"end_room\"]\n",
    "        )\n",
    "        all_departments_data.extend(floor_data)  # Append generated data to the main list\n",
    "\n",
    "# Convert the data to a DataFrame\n",
    "rooms_df = pd.DataFrame(all_departments_data)\n",
    "\n",
    "# Assign unique IDs to each room\n",
    "rooms_df['id'] = range(83, 83 + len(rooms_df))\n",
    "\n",
    "# Display the first few rows of the DataFrame\n",
    "rooms_df.head()"
   ]
  },
  {
   "cell_type": "markdown",
   "metadata": {},
   "source": [
    "# Save Data to CSV File\n",
    "Combine all generated data into a single DataFrame and save it to a CSV file named 'generated_rooms.csv'."
   ]
  },
  {
   "cell_type": "code",
   "execution_count": 4,
   "metadata": {},
   "outputs": [],
   "source": [
    "rooms_df.to_csv('generated_rooms.csv', index=False)  # Save the DataFrame to a CSV file without the index column"
   ]
  }
 ],
 "metadata": {
  "kernelspec": {
   "display_name": "Python 3",
   "language": "python",
   "name": "python3"
  },
  "language_info": {
   "codemirror_mode": {
    "name": "ipython",
    "version": 3
   },
   "file_extension": ".py",
   "mimetype": "text/x-python",
   "name": "python",
   "nbconvert_exporter": "python",
   "pygments_lexer": "ipython3",
   "version": "3.11.9"
  }
 },
 "nbformat": 4,
 "nbformat_minor": 2
}
