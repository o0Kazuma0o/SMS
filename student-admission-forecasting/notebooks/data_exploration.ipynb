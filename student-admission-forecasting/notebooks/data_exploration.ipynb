{
 "cells": [
  {
   "cell_type": "markdown",
   "metadata": {},
   "source": [
    "# Data Exploration for Student Admission Forecasting\n",
    "\n",
    "This notebook is used for exploratory data analysis (EDA) on the admissions data. It includes visualizations and statistical summaries to understand trends and patterns in the data."
   ]
  },
  {
   "cell_type": "code",
   "execution_count": null,
   "metadata": {
    "collapsed": false
   },
   "outputs": [],
   "source": [
    "# Import necessary libraries\n",
    "import pandas as pd\n",
    "import matplotlib.pyplot as plt\n",
    "import seaborn as sns\n",
    "\n",
    "# Set visualisation style\n",
    "sns.set(style='whitegrid')\n",
    "\n",
    "# Load the admissions data\n",
    "data_path = '../data/processed/admissions_processed.csv'\n",
    "admissions_data = pd.read_csv(data_path)\n",
    "\n",
    "# Display the first few rows of the dataset\n",
    "admissions_data.head()"
   ]
  },
  {
   "cell_type": "code",
   "execution_count": null,
   "metadata": {
    "collapsed": false
   },
   "outputs": [],
   "source": [
    "# Summary statistics of the dataset\n",
    "admissions_data.describe(include='all')"
   ]
  },
  {
   "cell_type": "code",
   "execution_count": null,
   "metadata": {
    "collapsed": false
   },
   "outputs": [],
   "source": [
    "# Check for missing values\n",
    "missing_values = admissions_data.isnull().sum()\n",
    "missing_values[missing_values > 0]"
   ]
  },
  {
   "cell_type": "code",
   "execution_count": null,
   "metadata": {
    "collapsed": false
   },
   "outputs": [],
   "source": [
    "# Visualize the distribution of admission applications over time\n",
    "admissions_data['created_at'] = pd.to_datetime(admissions_data['created_at'])\n",
    "admissions_data.set_index('created_at', inplace=True)\n",
    "\n",
    "# Resample the data to get daily counts\n",
    "daily_admissions = admissions_data.resample('D').size()\n",
    "\n",
    "# Plot the daily admissions\n",
    "plt.figure(figsize=(14, 7))\n",
    "plt.plot(daily_admissions, marker='o', linestyle='-')\n",
    "plt.title('Daily Admissions Over Time')\n",
    "plt.xlabel('Date')\n",
    "plt.ylabel('Number of Admissions')\n",
    "plt.xticks(rotation=45)\n",
    "plt.grid()\n",
    "plt.show()"
   ]
  },
  {
   "cell_type": "code",
   "execution_count": null,
   "metadata": {
    "collapsed": false
   },
   "outputs": [],
   "source": [
    "# Visualize the total admissions for July and August\n",
    "july_august_admissions = daily_admissions['2023-07':'2023-08']\n",
    "\n",
    "plt.figure(figsize=(14, 7))\n",
    "plt.bar(july_august_admissions.index, july_august_admissions.values, color='skyblue')\n",
    "plt.title('Total Admissions for July and August 2023')\n",
    "plt.xlabel('Date')\n",
    "plt.ylabel('Number of Admissions')\n",
    "plt.xticks(rotation=45)\n",
    "plt.grid(axis='y')\n",
    "plt.show()"
   ]
  }
 ],
 "metadata": {
  "kernelspec": {
   "display_name": "Python 3",
   "language": "python",
   "name": "python3"
  },
  "language_info": {
   "codemirror_mode": {
    "name": "ipython",
    "version": 3
   },
   "file_extension": ".py",
   "mimetype": "text/x-python",
   "name": "python",
   "nbconvert_exporter": "python",
   "pygments_lexer": "ipython3",
   "version": "3.8.5"
  }
 },
 "nbformat": 4,
 "nbformat_minor": 4
}